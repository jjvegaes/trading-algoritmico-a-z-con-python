{
  "cells": [
    {
      "cell_type": "markdown",
      "metadata": {
        "colab_type": "text",
        "id": "view-in-github"
      },
      "source": [
        "<a href=\"https://colab.research.google.com/github/joanby/trading-algoritmico-a-z-con-python/blob/main/ES_TA_Cap%C3%ADtulo_08_bis_Aplicaci%C3%B3n.ipynb\" target=\"_parent\"><img src=\"https://colab.research.google.com/assets/colab-badge.svg\" alt=\"Open In Colab\"/></a>"
      ]
    },
    {
      "cell_type": "markdown",
      "metadata": {
        "id": "K29LE8BuZEK0"
      },
      "source": [
        "<p><img alt=\"Colaboratory logo\" height=\"45px\" src=\"https://www.quantreo.com/wp-content/uploads/2021/10/Original-on-Transparent.png\" align=\"left\" hspace=\"10px\" vspace=\"0px\">\n",
        "<img alt=\"Colaboratory logo\" height=\"45px\" src=\"https://static-881c.kxcdn.com/wp-content/uploads/2016/03/frogamesLogoFull4.png\" align=\"left\" hspace=\"10px\" vspace=\"0px\"></p>\n",
        "\n",
        "#  Machine Learning con estrategia Intra Diaria\n",
        "\n",
        "\n",
        "<br>\n",
        "\n",
        "\n",
        "💰 Únete a la comunidad de [Discord](https://discord.gg/wXjNPAc5BH)\n",
        "\n",
        "📚 Puedes leer nuestro libro en [Amazon](https://www.amazon.com/gp/product/B09HG18CYL)\n",
        "\n",
        "🖥️ El canal de [YouTube de Quantreo's](https://www.youtube.com/channel/UCp7jckfiEglNf_Gj62VR0pw) (en inglés) y el de [Frogames](https://www.youtube.com/channel/UCMUxXNYrVCv6-bQakhomvBg) en español\n",
        "\n",
        "\n"
      ]
    },
    {
      "cell_type": "code",
      "execution_count": 25,
      "metadata": {
        "colab": {
          "base_uri": "https://localhost:8080/"
        },
        "id": "LXUd0NqAqE60",
        "outputId": "88e306b0-6b32-40bd-8d1b-9eccb75bbcf5"
      },
      "outputs": [
        {
          "name": "stdout",
          "output_type": "stream",
          "text": [
            "\u001b[33mDEPRECATION: Configuring installation scheme with distutils config files is deprecated and will no longer work in the near future. If you are using a Homebrew or Linuxbrew Python, please see discussion at https://github.com/Homebrew/homebrew-core/issues/76621\u001b[0m\u001b[33m\n",
            "\u001b[0mRequirement already satisfied: yfinance in /usr/local/lib/python3.9/site-packages (0.1.63)\n",
            "Requirement already satisfied: numpy>=1.15 in /usr/local/lib/python3.9/site-packages (from yfinance) (1.19.5)\n",
            "Requirement already satisfied: lxml>=4.5.1 in /usr/local/lib/python3.9/site-packages (from yfinance) (4.6.3)\n",
            "Requirement already satisfied: pandas>=0.24 in /usr/local/lib/python3.9/site-packages (from yfinance) (1.3.3)\n",
            "Requirement already satisfied: multitasking>=0.0.7 in /usr/local/lib/python3.9/site-packages (from yfinance) (0.0.9)\n",
            "Requirement already satisfied: requests>=2.20 in /usr/local/lib/python3.9/site-packages (from yfinance) (2.27.1)\n",
            "Requirement already satisfied: pytz>=2017.3 in /usr/local/lib/python3.9/site-packages (from pandas>=0.24->yfinance) (2021.3)\n",
            "Requirement already satisfied: python-dateutil>=2.7.3 in /usr/local/lib/python3.9/site-packages (from pandas>=0.24->yfinance) (2.8.2)\n",
            "Requirement already satisfied: idna<4,>=2.5 in /usr/local/lib/python3.9/site-packages (from requests>=2.20->yfinance) (3.2)\n",
            "Requirement already satisfied: urllib3<1.27,>=1.21.1 in /usr/local/lib/python3.9/site-packages (from requests>=2.20->yfinance) (1.26.6)\n",
            "Requirement already satisfied: certifi>=2017.4.17 in /usr/local/lib/python3.9/site-packages (from requests>=2.20->yfinance) (2021.5.30)\n",
            "Requirement already satisfied: charset-normalizer~=2.0.0 in /usr/local/lib/python3.9/site-packages (from requests>=2.20->yfinance) (2.0.4)\n",
            "Requirement already satisfied: six>=1.5 in /usr/local/lib/python3.9/site-packages (from python-dateutil>=2.7.3->pandas>=0.24->yfinance) (1.15.0)\n",
            "\u001b[33mDEPRECATION: Configuring installation scheme with distutils config files is deprecated and will no longer work in the near future. If you are using a Homebrew or Linuxbrew Python, please see discussion at https://github.com/Homebrew/homebrew-core/issues/76621\u001b[0m\u001b[33m\n",
            "\u001b[0m\u001b[33mWARNING: There was an error checking the latest version of pip.\u001b[0m\u001b[33m\n",
            "\u001b[0m\u001b[33mDEPRECATION: Configuring installation scheme with distutils config files is deprecated and will no longer work in the near future. If you are using a Homebrew or Linuxbrew Python, please see discussion at https://github.com/Homebrew/homebrew-core/issues/76621\u001b[0m\u001b[33m\n",
            "\u001b[0mRequirement already satisfied: ta in /usr/local/lib/python3.9/site-packages (0.10.1)\n",
            "Requirement already satisfied: numpy in /usr/local/lib/python3.9/site-packages (from ta) (1.19.5)\n",
            "Requirement already satisfied: pandas in /usr/local/lib/python3.9/site-packages (from ta) (1.3.3)\n",
            "Requirement already satisfied: pytz>=2017.3 in /usr/local/lib/python3.9/site-packages (from pandas->ta) (2021.3)\n",
            "Requirement already satisfied: python-dateutil>=2.7.3 in /usr/local/lib/python3.9/site-packages (from pandas->ta) (2.8.2)\n",
            "Requirement already satisfied: six>=1.5 in /usr/local/lib/python3.9/site-packages (from python-dateutil>=2.7.3->pandas->ta) (1.15.0)\n",
            "\u001b[33mDEPRECATION: Configuring installation scheme with distutils config files is deprecated and will no longer work in the near future. If you are using a Homebrew or Linuxbrew Python, please see discussion at https://github.com/Homebrew/homebrew-core/issues/76621\u001b[0m\u001b[33m\n",
            "\u001b[0m\u001b[33mWARNING: There was an error checking the latest version of pip.\u001b[0m\u001b[33m\n",
            "\u001b[0m"
          ]
        }
      ],
      "source": [
        "! pip install yfinance\n",
        "! pip install ta"
      ]
    },
    {
      "cell_type": "code",
      "execution_count": 26,
      "metadata": {
        "id": "417TEZu3qNDE"
      },
      "outputs": [],
      "source": [
        "import numpy as np\n",
        "import pandas as pd\n",
        "import matplotlib.pyplot as plt\n",
        "plt.style.use('seaborn')\n",
        "import warnings\n",
        "warnings.filterwarnings(\"ignore\")\n",
        "import yfinance as yf\n",
        "import ta"
      ]
    },
    {
      "cell_type": "code",
      "execution_count": 27,
      "metadata": {
        "id": "HKULuUYdqQVA"
      },
      "outputs": [],
      "source": [
        "import matplotlib as mpl\n",
        "from matplotlib import cycler\n",
        "\n",
        "colors = cycler('color',\n",
        "                ['#669FEE', '#66EE91', '#9988DD',\n",
        "                 '#EECC55', '#88BB44', '#FFBBBB'])\n",
        "plt.rc('figure', facecolor='#313233')\n",
        "plt.rc('axes', facecolor=\"#313233\", edgecolor='none',\n",
        "       axisbelow=True, grid=True, prop_cycle=colors,\n",
        "       labelcolor='gray')\n",
        "plt.rc('grid', color='474A4A', linestyle='solid')\n",
        "plt.rc('xtick', color='gray')\n",
        "plt.rc('ytick', direction='out', color='gray')\n",
        "plt.rc('legend', facecolor=\"#313233\", edgecolor=\"#313233\")\n",
        "plt.rc(\"text\", color=\"#C9C9C9\")\n",
        "plt.rc('figure', facecolor='#313233')"
      ]
    },
    {
      "cell_type": "markdown",
      "metadata": {
        "id": "1MfZfPVzZOah"
      },
      "source": [
        "# Funciones"
      ]
    },
    {
      "cell_type": "code",
      "execution_count": 61,
      "metadata": {
        "id": "hAlAYU5_qQ44"
      },
      "outputs": [],
      "source": [
        "def lin_reg_trading(symbol):\n",
        "  def preprocessing_min(name):\n",
        "\n",
        "    # Import the data\n",
        "    df = pd.read_csv(f'./FOREX M1/{name}_1m.csv', index_col=0 , parse_dates=True).dropna()\n",
        "    return df\n",
        "\n",
        "  def feature_engineering(df):\n",
        "    \"\"\" Crear nuevas variables\"\"\"\n",
        "    \n",
        "    # We copy the dataframe to avoid interferences in the data\n",
        "    df_copy = df.dropna().copy()\n",
        "    \n",
        "    # Create the returns\n",
        "    df_copy[\"returns\"] = df_copy[\"close\"].pct_change(1)\n",
        "\n",
        "    # Create the SMAs\n",
        "    df_copy[\"SMA 15\"] = df_copy[[\"close\"]].rolling(15).mean().shift(1)\n",
        "    df_copy[\"SMA 60\"] = df_copy[[\"close\"]].rolling(60).mean().shift(1)\n",
        "    \n",
        "    # Create the volatilities\n",
        "    df_copy[\"MSD 10\"] = df_copy[[\"returns\"]].rolling(10).std().shift(1)\n",
        "    df_copy[\"MSD 30\"] = df_copy[[\"returns\"]].rolling(30).std().shift(1)\n",
        "    \n",
        "    # Create the Rsi\n",
        "    RSI = ta.momentum.RSIIndicator(df_copy[\"close\"], window= 14, fillna = False)\n",
        "    df_copy[\"rsi\"] = RSI.rsi()\n",
        "    \n",
        "    return df_copy.dropna()\n",
        "  \n",
        "\n",
        "  # Import the data\n",
        "  df = preprocessing_min(symbol)\n",
        "\n",
        "  dfc = feature_engineering(df)\n",
        "\n",
        "  # Percentage train set\n",
        "  split = int(0.80*len(dfc))\n",
        "\n",
        "  # Train set creation\n",
        "  X_train = dfc[['SMA 15', 'SMA 60', 'MSD 10', 'MSD 30', 'rsi']].iloc[:split]\n",
        "  y_train = dfc[[\"returns\"]].iloc[:split]\n",
        "\n",
        "\n",
        "  # Test set creation\n",
        "  X_test = dfc[['SMA 15', 'SMA 60', 'MSD 10', 'MSD 30', 'rsi']].iloc[split:]\n",
        "  y_test = dfc[[\"returns\"]].iloc[split:]\n",
        "\n",
        "  # Import the class\n",
        "  from sklearn.linear_model import LinearRegression\n",
        "\n",
        "  # Initialize the class\n",
        "  reg = LinearRegression()\n",
        "\n",
        "  # Fit the model\n",
        "  reg.fit(X_train, y_train)\n",
        "\n",
        "  # Create predictions for the whole dataset\n",
        "  X = np.concatenate((X_train, X_test), axis=0)\n",
        "\n",
        "  dfc[\"prediction\"] = reg.predict(X)\n",
        "\n",
        "  # Compute the position\n",
        "  dfc[\"position\"] = np.sign(dfc[\"prediction\"])\n",
        "\n",
        "  # Compute the returns\n",
        "  dfc[\"strategy\"] = dfc[\"returns\"] * dfc[\"position\"].shift(1)\n",
        "\n",
        "\n",
        "  return dfc[\"strategy\"][dfc[\"strategy\"]<0.50]"
      ]
    },
    {
      "cell_type": "markdown",
      "metadata": {
        "id": "uE4x4MbmZTcg"
      },
      "source": [
        "# Aplicación"
      ]
    },
    {
      "cell_type": "code",
      "execution_count": 62,
      "metadata": {
        "colab": {
          "base_uri": "https://localhost:8080/",
          "height": 379
        },
        "id": "CSWkn7qqqwq3",
        "outputId": "08ed2bc6-7591-49cd-c883-d4e1ed66a9c1"
      },
      "outputs": [
        {
          "data": {
            "text/plain": [
              "<AxesSubplot:xlabel='Datetime'>"
            ]
          },
          "execution_count": 62,
          "metadata": {},
          "output_type": "execute_result"
        },
        {
          "data": {
            "image/png": "[encoded data removed]",
            "text/plain": [
              "<Figure size 576x396 with 1 Axes>"
            ]
          },
          "metadata": {},
          "output_type": "display_data"
        }
      ],
      "source": [
        " lin_reg_trading(\"ETH-USD\").cumsum().plot()"
      ]
    },
    {
      "cell_type": "code",
      "execution_count": 69,
      "metadata": {
        "colab": {
          "base_uri": "https://localhost:8080/",
          "height": 515
        },
        "id": "9imejAmKrqob",
        "outputId": "ad0bbc99-4459-42ed-cb96-451fa9465757"
      },
      "outputs": [
        {
          "data": {
            "text/plain": [
              "<AxesSubplot:xlabel='Datetime'>"
            ]
          },
          "execution_count": 69,
          "metadata": {},
          "output_type": "execute_result"
        },
        {
          "data": {
            "image/png": "[encoded data removed]",
            "text/plain": [
              "<Figure size 1440x576 with 1 Axes>"
            ]
          },
          "metadata": {},
          "output_type": "display_data"
        }
      ],
      "source": [
        "# List of assets\n",
        "symbols_forex = [\n",
        "    \"AUDCAD=X\",\"AUDCHF=X\",\"AUDJPY=X\",\"AUDNZD=X\",\"AUDUSD=X\",\"CADCHF=X\",\"CADJPY=X\",\n",
        "    \"CHFJPY=X\",\"EURAUD=X\",\"EURCAD=X\",\"EURCHF=X\",\"EURGBP=X\",\"EURJPY=X\",\"EURNZD=X\",\n",
        "    \"EURUSD=X\",\"GBPAUD=X\",\"GBPCAD=X\",\"GBPCHF=X\",\"GBPJPY=X\",\"GBPNZD=X\",\"GBPUSD=X\",\n",
        "    \"NZDCAD=X\",\"NZDCHF=X\",\"NZDJPY=X\",\"NZDUSD=X\",\"USDCAD=X\",\"USDCHF=X\",\"USDJPY=X\",\n",
        "                 ]\n",
        "\n",
        "symbols_forex_winners = [\n",
        "    \"AUDCAD=X\",\"AUDCHF=X\",\"AUDNZD=X\",\"AUDUSD=X\",\"CADCHF=X\",\"CADJPY=X\",\n",
        "    \"GBPCAD=X\",\"GBPCHF=X\",\"GBPJPY=X\",\"GBPUSD=X\",\n",
        "    \"NZDCAD=X\",\"USDCHF=X\"\n",
        "                 ]\n",
        "\n",
        "symbols_indices = [\n",
        "    '^NDX', '^GSPC', '^IBEX', \n",
        "]\n",
        "\n",
        "symbols_commodities = [\n",
        "    'GC=F', 'SI=F', 'CL=F',\n",
        "]\n",
        "\n",
        "symbols_tresuries = ['^TNX',\n",
        "                     #'00774B.TW',\n",
        "                     ]\n",
        "\n",
        "symbols_crypto = [\n",
        "    #'BTC-USD',\n",
        "    'ETH-USD',\n",
        "]\n",
        "\n",
        "             \n",
        "listnames = symbols_crypto #+ symbols_forex + symbols_indices\n",
        "             #+symbols_tresuries\n",
        "             #+symbols_commodities\n",
        "\n",
        "interval = '5m'\n",
        "returns = pd.DataFrame()\n",
        "\n",
        "# Compute the return of each strategy\n",
        "for name in listnames:\n",
        "  returns[name] = lin_reg_trading(name)\n",
        "\n",
        "# Plot the results\n",
        "(returns.dropna().sum(axis=1)/returns.shape[1]).cumsum().plot(figsize=(20,8))"
      ]
    },
    {
      "cell_type": "code",
      "execution_count": 70,
      "metadata": {
        "id": "cJdnrrivt4c3"
      },
      "outputs": [],
      "source": [
        "pf = returns.dropna().sum(axis=1)/returns.shape[1]"
      ]
    },
    {
      "cell_type": "code",
      "execution_count": 71,
      "metadata": {
        "id": "GwGOVgSkuny-"
      },
      "outputs": [],
      "source": [
        "def drawdown_function(serie):\n",
        "\n",
        "  # We compute Cumsum of the returns\n",
        "  cum = serie.dropna().cumsum() + 1\n",
        "\n",
        "  # We compute max of the cumsum on the period (accumulate max) # (1,3,5,3,1) --> (1,3,5,5,5)\n",
        "  running_max = np.maximum.accumulate(cum)\n",
        "\n",
        "  # We compute drawdown\n",
        "  drawdown = cum/running_max - 1\n",
        "  return drawdown"
      ]
    },
    {
      "cell_type": "code",
      "execution_count": 73,
      "metadata": {
        "colab": {
          "base_uri": "https://localhost:8080/"
        },
        "id": "1amHBnZXurSr",
        "outputId": "725652d0-1b46-4104-b6d0-1534c00722fe"
      },
      "outputs": [
        {
          "data": {
            "text/plain": [
              "192.59112984047505"
            ]
          },
          "execution_count": 73,
          "metadata": {},
          "output_type": "execute_result"
        }
      ],
      "source": [
        "(pf.dropna().cumsum().iloc[-1]) / -np.min(drawdown_function(pf.dropna()))"
      ]
    },
    {
      "cell_type": "code",
      "execution_count": 75,
      "metadata": {
        "id": "HP2UDwl1uySH"
      },
      "outputs": [
        {
          "data": {
            "text/html": [
              "<div>\n",
              "<style scoped>\n",
              "    .dataframe tbody tr th:only-of-type {\n",
              "        vertical-align: middle;\n",
              "    }\n",
              "\n",
              "    .dataframe tbody tr th {\n",
              "        vertical-align: top;\n",
              "    }\n",
              "\n",
              "    .dataframe thead th {\n",
              "        text-align: right;\n",
              "    }\n",
              "</style>\n",
              "<table border=\"1\" class=\"dataframe\">\n",
              "  <thead>\n",
              "    <tr style=\"text-align: right;\">\n",
              "      <th></th>\n",
              "      <th>BENEFICIO (%)</th>\n",
              "      <th>DRAWDOWN (%)</th>\n",
              "      <th>RETURN DRAWDOWN RATIO</th>\n",
              "      <th>NUMBER OF OPERATIONS</th>\n",
              "    </tr>\n",
              "  </thead>\n",
              "  <tbody>\n",
              "    <tr>\n",
              "      <th>ETH-USD</th>\n",
              "      <td>109.796304</td>\n",
              "      <td>0.570101</td>\n",
              "      <td>192.59113</td>\n",
              "      <td>8677.0</td>\n",
              "    </tr>\n",
              "  </tbody>\n",
              "</table>\n",
              "</div>"
            ],
            "text/plain": [
              "         BENEFICIO (%)  DRAWDOWN (%)  RETURN DRAWDOWN RATIO  \\\n",
              "ETH-USD     109.796304      0.570101              192.59113   \n",
              "\n",
              "         NUMBER OF OPERATIONS  \n",
              "ETH-USD                8677.0  "
            ]
          },
          "execution_count": 75,
          "metadata": {},
          "output_type": "execute_result"
        }
      ],
      "source": [
        "# Dataframe vacío\n",
        "values = pd.DataFrame(index=[\"BENEFICIO (%)\", \"DRAWDOWN (%)\", \"RETURN DRAWDOWN RATIO\", \"NUMBER OF OPERATIONS\"])\n",
        "\n",
        "# Calculamos retorno/drawdown\n",
        "for col in returns.columns:\n",
        "  ret = (returns[col].dropna().cumsum().iloc[-1])*100\n",
        "  dd = -np.min(drawdown_function(returns[col].dropna()))*100\n",
        "  ret_dd = ret/dd\n",
        "  num_op = returns[col].dropna().shape[0]\n",
        "  \n",
        "  values[col] = ret,dd,ret_dd, num_op\n",
        "\n",
        "values.transpose().sort_values(by=\"RETURN DRAWDOWN RATIO\", ascending=False)"
      ]
    },
    {
      "cell_type": "code",
      "execution_count": null,
      "metadata": {},
      "outputs": [],
      "source": []
    }
  ],
  "metadata": {
    "colab": {
      "collapsed_sections": [],
      "include_colab_link": true,
      "name": "ES - TA Capítulo 08 bis: Aplicación",
      "provenance": []
    },
    "kernelspec": {
      "display_name": "Python 3.9.13 64-bit",
      "language": "python",
      "name": "python3"
    },
    "language_info": {
      "codemirror_mode": {
        "name": "ipython",
        "version": 3
      },
      "file_extension": ".py",
      "mimetype": "text/x-python",
      "name": "python",
      "nbconvert_exporter": "python",
      "pygments_lexer": "ipython3",
      "version": "3.9.13"
    },
    "vscode": {
      "interpreter": {
        "hash": "aee8b7b246df8f9039afb4144a1f6fd8d2ca17a180786b69acc140d282b71a49"
      }
    }
  },
  "nbformat": 4,
  "nbformat_minor": 0
}
