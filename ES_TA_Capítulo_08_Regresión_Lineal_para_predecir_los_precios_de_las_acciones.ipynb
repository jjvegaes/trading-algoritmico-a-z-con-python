{
  "cells": [
    {
      "cell_type": "markdown",
      "metadata": {
        "colab_type": "text",
        "id": "view-in-github"
      },
      "source": [
        "<a href=\"https://colab.research.google.com/github/joanby/trading-algoritmico-a-z-con-python/blob/main/ES_TA_Cap%C3%ADtulo_08_Regresi%C3%B3n_Lineal_para_predecir_los_precios_de_las_acciones.ipynb\" target=\"_parent\"><img src=\"https://colab.research.google.com/assets/colab-badge.svg\" alt=\"Open In Colab\"/></a>"
      ]
    },
    {
      "cell_type": "markdown",
      "id": "ce076564",
      "metadata": {
        "id": "ce076564"
      },
      "source": [
        "<p><img alt=\"Colaboratory logo\" height=\"45px\" src=\"https://www.quantreo.com/wp-content/uploads/2021/10/Original-on-Transparent.png\" align=\"left\" hspace=\"10px\" vspace=\"0px\">\n",
        "<img alt=\"Colaboratory logo\" height=\"45px\" src=\"https://static-881c.kxcdn.com/wp-content/uploads/2016/03/frogamesLogoFull4.png\" align=\"left\" hspace=\"10px\" vspace=\"0px\"></p>\n",
        "\n",
        "\n",
        "# Regresión Lineal para predecir los precios de las acciones\n",
        "\n",
        "</br>\n",
        "\n",
        "En este capítulo, explicaremos cómo funciona teóricamente la regresión lineal. A continuación, aplicaremos este algoritmo para predecir el precio de las acciones y crear una estrategia de trading\n",
        "\n",
        "### Resumen\n",
        "* Cómo funciona teóricamente un algoritmo de Regresión Lineal\n",
        "* Predecir el precio de las acciones utilizando una regresión lineal\n",
        "* Crear una estrategia de trading \n",
        "\n",
        "</br>\n",
        "\n",
        "💰 Únete a la comunidad de [Discord](https://discord.gg/wXjNPAc5BH)\n",
        "\n",
        "📚 Puedes leer nuestro libro en [Amazon](https://www.amazon.com/gp/product/B09HG18CYL)\n",
        "\n",
        "🖥️ El canal de [YouTube de Quantreo's](https://www.youtube.com/channel/UCp7jckfiEglNf_Gj62VR0pw) (en inglés) y el de [Frogames](https://www.youtube.com/channel/UCMUxXNYrVCv6-bQakhomvBg) en español\n",
        "\n",
        "\n"
      ]
    },
    {
      "cell_type": "code",
      "execution_count": 1,
      "id": "96gJhLVz-9dw",
      "metadata": {
        "colab": {
          "base_uri": "https://localhost:8080/"
        },
        "id": "96gJhLVz-9dw",
        "outputId": "510f2015-54f6-49c0-a0df-725cb867af5c"
      },
      "outputs": [
        {
          "name": "stdout",
          "output_type": "stream",
          "text": [
            "Looking in indexes: https://pypi.org/simple, https://us-python.pkg.dev/colab-wheels/public/simple/\n",
            "Collecting yfinance\n",
            "  Downloading yfinance-0.1.72-py2.py3-none-any.whl (27 kB)\n",
            "Requirement already satisfied: pandas>=0.24.0 in /usr/local/lib/python3.7/dist-packages (from yfinance) (1.3.5)\n",
            "Collecting lxml>=4.5.1\n",
            "  Downloading lxml-4.9.0-cp37-cp37m-manylinux_2_17_x86_64.manylinux2014_x86_64.manylinux_2_24_x86_64.whl (6.4 MB)\n",
            "\u001b[K     |████████████████████████████████| 6.4 MB 9.9 MB/s \n",
            "\u001b[?25hRequirement already satisfied: multitasking>=0.0.7 in /usr/local/lib/python3.7/dist-packages (from yfinance) (0.0.10)\n",
            "Requirement already satisfied: numpy>=1.15 in /usr/local/lib/python3.7/dist-packages (from yfinance) (1.21.6)\n",
            "Collecting requests>=2.26\n",
            "  Downloading requests-2.28.0-py3-none-any.whl (62 kB)\n",
            "\u001b[K     |████████████████████████████████| 62 kB 1.3 MB/s \n",
            "\u001b[?25hRequirement already satisfied: pytz>=2017.3 in /usr/local/lib/python3.7/dist-packages (from pandas>=0.24.0->yfinance) (2022.1)\n",
            "Requirement already satisfied: python-dateutil>=2.7.3 in /usr/local/lib/python3.7/dist-packages (from pandas>=0.24.0->yfinance) (2.8.2)\n",
            "Requirement already satisfied: six>=1.5 in /usr/local/lib/python3.7/dist-packages (from python-dateutil>=2.7.3->pandas>=0.24.0->yfinance) (1.15.0)\n",
            "Requirement already satisfied: certifi>=2017.4.17 in /usr/local/lib/python3.7/dist-packages (from requests>=2.26->yfinance) (2022.6.15)\n",
            "Requirement already satisfied: idna<4,>=2.5 in /usr/local/lib/python3.7/dist-packages (from requests>=2.26->yfinance) (2.10)\n",
            "Requirement already satisfied: charset-normalizer~=2.0.0 in /usr/local/lib/python3.7/dist-packages (from requests>=2.26->yfinance) (2.0.12)\n",
            "Requirement already satisfied: urllib3<1.27,>=1.21.1 in /usr/local/lib/python3.7/dist-packages (from requests>=2.26->yfinance) (1.24.3)\n",
            "Installing collected packages: requests, lxml, yfinance\n",
            "  Attempting uninstall: requests\n",
            "    Found existing installation: requests 2.23.0\n",
            "    Uninstalling requests-2.23.0:\n",
            "      Successfully uninstalled requests-2.23.0\n",
            "  Attempting uninstall: lxml\n",
            "    Found existing installation: lxml 4.2.6\n",
            "    Uninstalling lxml-4.2.6:\n",
            "      Successfully uninstalled lxml-4.2.6\n",
            "\u001b[31mERROR: pip's dependency resolver does not currently take into account all the packages that are installed. This behaviour is the source of the following dependency conflicts.\n",
            "google-colab 1.0.0 requires requests~=2.23.0, but you have requests 2.28.0 which is incompatible.\n",
            "datascience 0.10.6 requires folium==0.2.1, but you have folium 0.8.3 which is incompatible.\u001b[0m\n",
            "Successfully installed lxml-4.9.0 requests-2.28.0 yfinance-0.1.72\n",
            "Looking in indexes: https://pypi.org/simple, https://us-python.pkg.dev/colab-wheels/public/simple/\n",
            "Collecting ta\n",
            "  Downloading ta-0.10.1.tar.gz (24 kB)\n",
            "Requirement already satisfied: numpy in /usr/local/lib/python3.7/dist-packages (from ta) (1.21.6)\n",
            "Requirement already satisfied: pandas in /usr/local/lib/python3.7/dist-packages (from ta) (1.3.5)\n",
            "Requirement already satisfied: pytz>=2017.3 in /usr/local/lib/python3.7/dist-packages (from pandas->ta) (2022.1)\n",
            "Requirement already satisfied: python-dateutil>=2.7.3 in /usr/local/lib/python3.7/dist-packages (from pandas->ta) (2.8.2)\n",
            "Requirement already satisfied: six>=1.5 in /usr/local/lib/python3.7/dist-packages (from python-dateutil>=2.7.3->pandas->ta) (1.15.0)\n",
            "Building wheels for collected packages: ta\n",
            "  Building wheel for ta (setup.py) ... \u001b[?25l\u001b[?25hdone\n",
            "  Created wheel for ta: filename=ta-0.10.1-py3-none-any.whl size=28985 sha256=ac7c926a9f80f9074f9b7c45d372e9473113577544e17bfac76c6d97abac90ec\n",
            "  Stored in directory: /root/.cache/pip/wheels/bc/2a/c2/a56e77d07edc16a1fa7fb012667e55cb0643cfa65996bddecc\n",
            "Successfully built ta\n",
            "Installing collected packages: ta\n",
            "Successfully installed ta-0.10.1\n"
          ]
        }
      ],
      "source": [
        "! pip install yfinance\n",
        "! pip install ta"
      ]
    },
    {
      "cell_type": "code",
      "execution_count": 1,
      "id": "e6e42806",
      "metadata": {
        "id": "e6e42806"
      },
      "outputs": [],
      "source": [
        "import numpy as np\n",
        "import pandas as pd\n",
        "import matplotlib.pyplot as plt\n",
        "plt.style.use('seaborn')\n",
        "import warnings\n",
        "warnings.filterwarnings(\"ignore\")\n",
        "import yfinance as yf\n",
        "import ta"
      ]
    },
    {
      "cell_type": "code",
      "execution_count": 2,
      "id": "QBqF1ghUdcTl",
      "metadata": {
        "id": "QBqF1ghUdcTl"
      },
      "outputs": [],
      "source": [
        "import matplotlib as mpl\n",
        "from matplotlib import cycler\n",
        "\n",
        "colors = cycler('color',\n",
        "                ['#669FEE', '#66EE91', '#9988DD',\n",
        "                 '#EECC55', '#88BB44', '#FFBBBB'])\n",
        "plt.rc('figure', facecolor='#313233')\n",
        "plt.rc('axes', facecolor=\"#313233\", edgecolor='none',\n",
        "       axisbelow=True, grid=True, prop_cycle=colors,\n",
        "       labelcolor='gray')\n",
        "plt.rc('grid', color='474A4A', linestyle='solid')\n",
        "plt.rc('xtick', color='gray')\n",
        "plt.rc('ytick', direction='out', color='gray')\n",
        "plt.rc('legend', facecolor=\"#313233\", edgecolor=\"#313233\")\n",
        "plt.rc(\"text\", color=\"#C9C9C9\")\n",
        "plt.rc('figure', facecolor='#313233')"
      ]
    },
    {
      "cell_type": "markdown",
      "id": "0f5a9e7a",
      "metadata": {
        "id": "0f5a9e7a"
      },
      "source": [
        "# Cómo funciona teóricamente un algoritmo de Regresión Lineal\n",
        "Mira el vídeo y el PDF adjunto."
      ]
    },
    {
      "cell_type": "markdown",
      "id": "fedb3480",
      "metadata": {
        "id": "fedb3480"
      },
      "source": [
        "# Predecir el precio de las acciones utilizando una regresión lineal\n"
      ]
    },
    {
      "cell_type": "markdown",
      "id": "2af6dea6",
      "metadata": {
        "id": "2af6dea6"
      },
      "source": [
        "### Importar los datos de Yahoo (esiest choice)\n",
        "\n",
        "**IMPORTANTE**: Puedes importar los datos desde Yahoo o desde MT5. Pero necesitas tener un dispositivo Windows para usar MT5. ¡Para evitar este problema, puedes ver el vídeo de introducción del capítulo MetaTrader 5 Live Trading! "
      ]
    },
    {
      "cell_type": "code",
      "execution_count": 15,
      "id": "52084a45",
      "metadata": {
        "colab": {
          "base_uri": "https://localhost:8080/",
          "height": 473
        },
        "id": "52084a45",
        "outputId": "8a338ddc-c4f0-4146-afb8-4ec0503fd235"
      },
      "outputs": [
        {
          "name": "stdout",
          "output_type": "stream",
          "text": [
            "[*********************100%***********************]  1 of 1 completed\n"
          ]
        },
        {
          "data": {
            "text/html": [
              "<div>\n",
              "<style scoped>\n",
              "    .dataframe tbody tr th:only-of-type {\n",
              "        vertical-align: middle;\n",
              "    }\n",
              "\n",
              "    .dataframe tbody tr th {\n",
              "        vertical-align: top;\n",
              "    }\n",
              "\n",
              "    .dataframe thead th {\n",
              "        text-align: right;\n",
              "    }\n",
              "</style>\n",
              "<table border=\"1\" class=\"dataframe\">\n",
              "  <thead>\n",
              "    <tr style=\"text-align: right;\">\n",
              "      <th></th>\n",
              "      <th>close</th>\n",
              "    </tr>\n",
              "    <tr>\n",
              "      <th>Datetime</th>\n",
              "      <th></th>\n",
              "    </tr>\n",
              "  </thead>\n",
              "  <tbody>\n",
              "    <tr>\n",
              "      <th>2022-07-11 09:30:00-04:00</th>\n",
              "      <td>117.809731</td>\n",
              "    </tr>\n",
              "    <tr>\n",
              "      <th>2022-07-11 09:35:00-04:00</th>\n",
              "      <td>116.814499</td>\n",
              "    </tr>\n",
              "    <tr>\n",
              "      <th>2022-07-11 09:40:00-04:00</th>\n",
              "      <td>116.940002</td>\n",
              "    </tr>\n",
              "    <tr>\n",
              "      <th>2022-07-11 09:45:00-04:00</th>\n",
              "      <td>116.726501</td>\n",
              "    </tr>\n",
              "    <tr>\n",
              "      <th>2022-07-11 09:50:00-04:00</th>\n",
              "      <td>116.590744</td>\n",
              "    </tr>\n",
              "    <tr>\n",
              "      <th>...</th>\n",
              "      <td>...</td>\n",
              "    </tr>\n",
              "    <tr>\n",
              "      <th>2022-09-01 15:40:00-04:00</th>\n",
              "      <td>109.870003</td>\n",
              "    </tr>\n",
              "    <tr>\n",
              "      <th>2022-09-01 15:45:00-04:00</th>\n",
              "      <td>109.830002</td>\n",
              "    </tr>\n",
              "    <tr>\n",
              "      <th>2022-09-01 15:50:00-04:00</th>\n",
              "      <td>110.169998</td>\n",
              "    </tr>\n",
              "    <tr>\n",
              "      <th>2022-09-01 15:55:00-04:00</th>\n",
              "      <td>110.550003</td>\n",
              "    </tr>\n",
              "    <tr>\n",
              "      <th>2022-09-01 16:00:00-04:00</th>\n",
              "      <td>110.550003</td>\n",
              "    </tr>\n",
              "  </tbody>\n",
              "</table>\n",
              "<p>3043 rows × 1 columns</p>\n",
              "</div>"
            ],
            "text/plain": [
              "                                close\n",
              "Datetime                             \n",
              "2022-07-11 09:30:00-04:00  117.809731\n",
              "2022-07-11 09:35:00-04:00  116.814499\n",
              "2022-07-11 09:40:00-04:00  116.940002\n",
              "2022-07-11 09:45:00-04:00  116.726501\n",
              "2022-07-11 09:50:00-04:00  116.590744\n",
              "...                               ...\n",
              "2022-09-01 15:40:00-04:00  109.870003\n",
              "2022-09-01 15:45:00-04:00  109.830002\n",
              "2022-09-01 15:50:00-04:00  110.169998\n",
              "2022-09-01 15:55:00-04:00  110.550003\n",
              "2022-09-01 16:00:00-04:00  110.550003\n",
              "\n",
              "[3043 rows x 1 columns]"
            ]
          },
          "execution_count": 15,
          "metadata": {},
          "output_type": "execute_result"
        }
      ],
      "source": [
        "# Importar los datos\n",
        "df = yf.download(\"GOOG\", start=\"2022-07-10\", interval=\"5m\")\n",
        "\n",
        "# Nos quedamos con el cierre ajustado\n",
        "df = df[[\"Adj Close\"]]\n",
        "\n",
        "# Renombra la columna\n",
        "df.columns = [\"close\"]\n",
        "df"
      ]
    },
    {
      "cell_type": "markdown",
      "id": "3c4388f9",
      "metadata": {
        "id": "3c4388f9"
      },
      "source": [
        "### Ingeniería de Características\n",
        "\n"
      ]
    },
    {
      "cell_type": "code",
      "execution_count": 16,
      "id": "5daca6ac",
      "metadata": {
        "id": "5daca6ac"
      },
      "outputs": [],
      "source": [
        "def feature_engineering(df):\n",
        "    \"\"\" Crear nuevas variables\"\"\"\n",
        "    \n",
        "    # Copiamos el dataframe para evitar interferencias en los datos\n",
        "    df_copy = df.dropna().copy()\n",
        "    \n",
        "    # Crear el retorno\n",
        "    df_copy[\"returns\"] = df_copy[\"close\"].pct_change(1)\n",
        "\n",
        "    # Crear las SMAs\n",
        "    df_copy[\"SMA 15\"] = df_copy[[\"close\"]].rolling(15).mean().shift(1)\n",
        "    df_copy[\"SMA 60\"] = df_copy[[\"close\"]].rolling(60).mean().shift(1)\n",
        "    \n",
        "    # Crear las volatilidades\n",
        "    df_copy[\"MSD 10\"] = df_copy[[\"returns\"]].rolling(10).std().shift(1)\n",
        "    df_copy[\"MSD 30\"] = df_copy[[\"returns\"]].rolling(30).std().shift(1)\n",
        "    \n",
        "    # Crear el RSI\n",
        "    RSI = ta.momentum.RSIIndicator(df_copy[\"close\"], window= 14, fillna = False)\n",
        "    df_copy[\"rsi\"] = RSI.rsi()\n",
        "    \n",
        "    return df_copy.dropna()"
      ]
    },
    {
      "cell_type": "code",
      "execution_count": 17,
      "id": "mvHxIPyjjt0h",
      "metadata": {
        "colab": {
          "base_uri": "https://localhost:8080/",
          "height": 455
        },
        "id": "mvHxIPyjjt0h",
        "outputId": "a1bdadcd-c67b-4269-ad4c-3c11f653db1e"
      },
      "outputs": [
        {
          "data": {
            "text/html": [
              "<div>\n",
              "<style scoped>\n",
              "    .dataframe tbody tr th:only-of-type {\n",
              "        vertical-align: middle;\n",
              "    }\n",
              "\n",
              "    .dataframe tbody tr th {\n",
              "        vertical-align: top;\n",
              "    }\n",
              "\n",
              "    .dataframe thead th {\n",
              "        text-align: right;\n",
              "    }\n",
              "</style>\n",
              "<table border=\"1\" class=\"dataframe\">\n",
              "  <thead>\n",
              "    <tr style=\"text-align: right;\">\n",
              "      <th></th>\n",
              "      <th>close</th>\n",
              "      <th>returns</th>\n",
              "      <th>SMA 15</th>\n",
              "      <th>SMA 60</th>\n",
              "      <th>MSD 10</th>\n",
              "      <th>MSD 30</th>\n",
              "      <th>rsi</th>\n",
              "    </tr>\n",
              "    <tr>\n",
              "      <th>Datetime</th>\n",
              "      <th></th>\n",
              "      <th></th>\n",
              "      <th></th>\n",
              "      <th></th>\n",
              "      <th></th>\n",
              "      <th></th>\n",
              "      <th></th>\n",
              "    </tr>\n",
              "  </thead>\n",
              "  <tbody>\n",
              "    <tr>\n",
              "      <th>2022-07-11 14:30:00-04:00</th>\n",
              "      <td>116.783249</td>\n",
              "      <td>-0.000674</td>\n",
              "      <td>117.145015</td>\n",
              "      <td>117.379361</td>\n",
              "      <td>0.000803</td>\n",
              "      <td>0.000967</td>\n",
              "      <td>32.018349</td>\n",
              "    </tr>\n",
              "    <tr>\n",
              "      <th>2022-07-11 14:35:00-04:00</th>\n",
              "      <td>116.718002</td>\n",
              "      <td>-0.000559</td>\n",
              "      <td>117.103716</td>\n",
              "      <td>117.362253</td>\n",
              "      <td>0.000741</td>\n",
              "      <td>0.000959</td>\n",
              "      <td>30.227811</td>\n",
              "    </tr>\n",
              "    <tr>\n",
              "      <th>2022-07-11 14:40:00-04:00</th>\n",
              "      <td>116.938004</td>\n",
              "      <td>0.001885</td>\n",
              "      <td>117.052982</td>\n",
              "      <td>117.360645</td>\n",
              "      <td>0.000729</td>\n",
              "      <td>0.000938</td>\n",
              "      <td>42.004674</td>\n",
              "    </tr>\n",
              "    <tr>\n",
              "      <th>2022-07-11 14:45:00-04:00</th>\n",
              "      <td>116.924500</td>\n",
              "      <td>-0.000115</td>\n",
              "      <td>117.031482</td>\n",
              "      <td>117.360612</td>\n",
              "      <td>0.001040</td>\n",
              "      <td>0.001016</td>\n",
              "      <td>41.541175</td>\n",
              "    </tr>\n",
              "    <tr>\n",
              "      <th>2022-07-11 14:50:00-04:00</th>\n",
              "      <td>116.841248</td>\n",
              "      <td>-0.000712</td>\n",
              "      <td>117.007516</td>\n",
              "      <td>117.363912</td>\n",
              "      <td>0.000986</td>\n",
              "      <td>0.000991</td>\n",
              "      <td>38.705601</td>\n",
              "    </tr>\n",
              "    <tr>\n",
              "      <th>...</th>\n",
              "      <td>...</td>\n",
              "      <td>...</td>\n",
              "      <td>...</td>\n",
              "      <td>...</td>\n",
              "      <td>...</td>\n",
              "      <td>...</td>\n",
              "      <td>...</td>\n",
              "    </tr>\n",
              "    <tr>\n",
              "      <th>2022-09-01 15:40:00-04:00</th>\n",
              "      <td>109.870003</td>\n",
              "      <td>-0.000091</td>\n",
              "      <td>109.798779</td>\n",
              "      <td>109.059157</td>\n",
              "      <td>0.001737</td>\n",
              "      <td>0.001572</td>\n",
              "      <td>57.980259</td>\n",
              "    </tr>\n",
              "    <tr>\n",
              "      <th>2022-09-01 15:45:00-04:00</th>\n",
              "      <td>109.830002</td>\n",
              "      <td>-0.000364</td>\n",
              "      <td>109.810113</td>\n",
              "      <td>109.069375</td>\n",
              "      <td>0.001562</td>\n",
              "      <td>0.001563</td>\n",
              "      <td>56.758112</td>\n",
              "    </tr>\n",
              "    <tr>\n",
              "      <th>2022-09-01 15:50:00-04:00</th>\n",
              "      <td>110.169998</td>\n",
              "      <td>0.003096</td>\n",
              "      <td>109.816113</td>\n",
              "      <td>109.084080</td>\n",
              "      <td>0.001517</td>\n",
              "      <td>0.001562</td>\n",
              "      <td>63.751967</td>\n",
              "    </tr>\n",
              "    <tr>\n",
              "      <th>2022-09-01 15:55:00-04:00</th>\n",
              "      <td>110.550003</td>\n",
              "      <td>0.003449</td>\n",
              "      <td>109.838113</td>\n",
              "      <td>109.103580</td>\n",
              "      <td>0.001782</td>\n",
              "      <td>0.001626</td>\n",
              "      <td>69.658683</td>\n",
              "    </tr>\n",
              "    <tr>\n",
              "      <th>2022-09-01 16:00:00-04:00</th>\n",
              "      <td>110.550003</td>\n",
              "      <td>0.000000</td>\n",
              "      <td>109.902780</td>\n",
              "      <td>109.133913</td>\n",
              "      <td>0.001948</td>\n",
              "      <td>0.001697</td>\n",
              "      <td>69.658683</td>\n",
              "    </tr>\n",
              "  </tbody>\n",
              "</table>\n",
              "<p>2983 rows × 7 columns</p>\n",
              "</div>"
            ],
            "text/plain": [
              "                                close   returns      SMA 15      SMA 60  \\\n",
              "Datetime                                                                  \n",
              "2022-07-11 14:30:00-04:00  116.783249 -0.000674  117.145015  117.379361   \n",
              "2022-07-11 14:35:00-04:00  116.718002 -0.000559  117.103716  117.362253   \n",
              "2022-07-11 14:40:00-04:00  116.938004  0.001885  117.052982  117.360645   \n",
              "2022-07-11 14:45:00-04:00  116.924500 -0.000115  117.031482  117.360612   \n",
              "2022-07-11 14:50:00-04:00  116.841248 -0.000712  117.007516  117.363912   \n",
              "...                               ...       ...         ...         ...   \n",
              "2022-09-01 15:40:00-04:00  109.870003 -0.000091  109.798779  109.059157   \n",
              "2022-09-01 15:45:00-04:00  109.830002 -0.000364  109.810113  109.069375   \n",
              "2022-09-01 15:50:00-04:00  110.169998  0.003096  109.816113  109.084080   \n",
              "2022-09-01 15:55:00-04:00  110.550003  0.003449  109.838113  109.103580   \n",
              "2022-09-01 16:00:00-04:00  110.550003  0.000000  109.902780  109.133913   \n",
              "\n",
              "                             MSD 10    MSD 30        rsi  \n",
              "Datetime                                                  \n",
              "2022-07-11 14:30:00-04:00  0.000803  0.000967  32.018349  \n",
              "2022-07-11 14:35:00-04:00  0.000741  0.000959  30.227811  \n",
              "2022-07-11 14:40:00-04:00  0.000729  0.000938  42.004674  \n",
              "2022-07-11 14:45:00-04:00  0.001040  0.001016  41.541175  \n",
              "2022-07-11 14:50:00-04:00  0.000986  0.000991  38.705601  \n",
              "...                             ...       ...        ...  \n",
              "2022-09-01 15:40:00-04:00  0.001737  0.001572  57.980259  \n",
              "2022-09-01 15:45:00-04:00  0.001562  0.001563  56.758112  \n",
              "2022-09-01 15:50:00-04:00  0.001517  0.001562  63.751967  \n",
              "2022-09-01 15:55:00-04:00  0.001782  0.001626  69.658683  \n",
              "2022-09-01 16:00:00-04:00  0.001948  0.001697  69.658683  \n",
              "\n",
              "[2983 rows x 7 columns]"
            ]
          },
          "execution_count": 17,
          "metadata": {},
          "output_type": "execute_result"
        }
      ],
      "source": [
        "dfc = feature_engineering(df)\n",
        "dfc"
      ]
    },
    {
      "cell_type": "markdown",
      "id": "64cf52d6",
      "metadata": {
        "id": "64cf52d6"
      },
      "source": [
        "### Crear diferentes conjuntos de datos"
      ]
    },
    {
      "cell_type": "code",
      "execution_count": 18,
      "id": "07f40655",
      "metadata": {
        "colab": {
          "base_uri": "https://localhost:8080/"
        },
        "id": "07f40655",
        "outputId": "4ced93ec-d516-442b-ba64-9ea6cd764195"
      },
      "outputs": [
        {
          "data": {
            "text/plain": [
              "Index(['close', 'returns', 'SMA 15', 'SMA 60', 'MSD 10', 'MSD 30', 'rsi'], dtype='object')"
            ]
          },
          "execution_count": 18,
          "metadata": {},
          "output_type": "execute_result"
        }
      ],
      "source": [
        "dfc.columns"
      ]
    },
    {
      "cell_type": "code",
      "execution_count": 19,
      "id": "ac6fbb79",
      "metadata": {
        "id": "ac6fbb79"
      },
      "outputs": [],
      "source": [
        "# Porcentaje del conjunto de entrenamiento\n",
        "split = int(0.80*len(dfc))\n",
        "\n",
        "# Crear el conjunto de entrenamiento\n",
        "X_train = dfc[['SMA 15', 'SMA 60', 'MSD 10', 'MSD 30', 'rsi']].iloc[:split]\n",
        "y_train = dfc[[\"returns\"]].iloc[:split]\n",
        "\n",
        "\n",
        "# Crear el conjunto de testing\n",
        "X_test = dfc[['SMA 15', 'SMA 60', 'MSD 10', 'MSD 30', 'rsi']].iloc[split:]\n",
        "y_test = dfc[[\"returns\"]].iloc[split:]"
      ]
    },
    {
      "cell_type": "markdown",
      "id": "bFuKfe8GeRpf",
      "metadata": {
        "id": "bFuKfe8GeRpf"
      },
      "source": [
        "### Entrenamiento de regresión lineal"
      ]
    },
    {
      "cell_type": "code",
      "execution_count": 20,
      "id": "9b0f773d",
      "metadata": {
        "colab": {
          "base_uri": "https://localhost:8080/"
        },
        "id": "9b0f773d",
        "outputId": "7fcef9af-2462-4b0e-c87c-06da77028aee"
      },
      "outputs": [
        {
          "data": {
            "text/plain": [
              "LinearRegression()"
            ]
          },
          "execution_count": 20,
          "metadata": {},
          "output_type": "execute_result"
        }
      ],
      "source": [
        "# Import la clase\n",
        "from sklearn.linear_model import LinearRegression\n",
        "\n",
        "# Inicializar la clase\n",
        "reg = LinearRegression()\n",
        "\n",
        "# Ajustar el modelo\n",
        "reg.fit(X_train, y_train)"
      ]
    },
    {
      "cell_type": "markdown",
      "id": "kM9Jh_LOeYri",
      "metadata": {
        "id": "kM9Jh_LOeYri"
      },
      "source": [
        "### Predicciones de regresión lineal"
      ]
    },
    {
      "cell_type": "code",
      "execution_count": 21,
      "id": "aafe0dfe",
      "metadata": {
        "colab": {
          "base_uri": "https://localhost:8080/",
          "height": 359
        },
        "id": "aafe0dfe",
        "outputId": "55f612e7-ea1d-48c8-e52a-47162683a27f"
      },
      "outputs": [
        {
          "data": {
            "text/plain": [
              "<AxesSubplot:xlabel='Datetime'>"
            ]
          },
          "execution_count": 21,
          "metadata": {},
          "output_type": "execute_result"
        },
        {
          "data": {
            "image/png": "[encoded data removed]",
            "text/plain": [
              "<Figure size 576x396 with 1 Axes>"
            ]
          },
          "metadata": {},
          "output_type": "display_data"
        }
      ],
      "source": [
        "# Crear predicciones para todo el conjunto de datos\n",
        "X = np.concatenate((X_train, X_test), axis=0)\n",
        "\n",
        "dfc[\"prediction\"] = reg.predict(X)\n",
        "\n",
        "# Verificamos que el algoritmo no predice de un sólo modo (positiva o negativa)\n",
        "dfc[\"prediction\"].plot()"
      ]
    },
    {
      "cell_type": "markdown",
      "id": "wv3rJNaLeehZ",
      "metadata": {
        "id": "wv3rJNaLeehZ"
      },
      "source": [
        "### Calcular el beneficio "
      ]
    },
    {
      "cell_type": "code",
      "execution_count": 22,
      "id": "5Y7YcURIBcH1",
      "metadata": {
        "id": "5Y7YcURIBcH1"
      },
      "outputs": [],
      "source": [
        "# Calculamos la posición\n",
        "dfc[\"position\"] = np.sign(dfc[\"prediction\"])\n"
      ]
    },
    {
      "cell_type": "code",
      "execution_count": 23,
      "id": "sYFIyCs1oM8U",
      "metadata": {
        "colab": {
          "base_uri": "https://localhost:8080/",
          "height": 366
        },
        "id": "sYFIyCs1oM8U",
        "outputId": "9e63b34d-47ff-480c-e642-3a0243c71db2"
      },
      "outputs": [
        {
          "data": {
            "text/plain": [
              "<AxesSubplot:xlabel='Datetime'>"
            ]
          },
          "execution_count": 23,
          "metadata": {},
          "output_type": "execute_result"
        },
        {
          "data": {
            "image/png": "[encoded data removed]",
            "text/plain": [
              "<Figure size 576x396 with 1 Axes>"
            ]
          },
          "metadata": {},
          "output_type": "display_data"
        }
      ],
      "source": [
        "# Calcular el beneficio \n",
        "dfc[\"strategy\"] = dfc[\"returns\"] * dfc[\"position\"].shift(1)\n",
        "\n",
        "\n",
        "(dfc[\"strategy\"].iloc[split:].cumsum()*100).plot()"
      ]
    },
    {
      "cell_type": "code",
      "execution_count": 33,
      "id": "kTohgCOrnJan",
      "metadata": {
        "id": "kTohgCOrnJan"
      },
      "outputs": [],
      "source": [
        "def lin_reg_trading(symbol):\n",
        "\n",
        "  def feature_engineering(df):\n",
        "    \"\"\" Create new variables\"\"\"\n",
        "    \n",
        "    # Copiamos el marco de datos para evitar interferencias en los datos\n",
        "    df_copy = df.dropna().copy()\n",
        "    \n",
        "    # Calcular el retorno\n",
        "    df_copy[\"returns\"] = df_copy[\"close\"].pct_change(1)\n",
        "\n",
        "    # Crear las SMAs\n",
        "    df_copy[\"SMA 15\"] = df_copy[[\"close\"]].rolling(15).mean().shift(1)\n",
        "    df_copy[\"SMA 60\"] = df_copy[[\"close\"]].rolling(60).mean().shift(1)\n",
        "    \n",
        "    # Crear las volatilidades\n",
        "    df_copy[\"MSD 10\"] = df_copy[[\"returns\"]].rolling(10).std().shift(1)\n",
        "    df_copy[\"MSD 30\"] = df_copy[[\"returns\"]].rolling(30).std().shift(1)\n",
        "    \n",
        "    # Crear las RSI\n",
        "    RSI = ta.momentum.RSIIndicator(df_copy[\"close\"], window= 14, fillna = False)\n",
        "    df_copy[\"rsi\"] = RSI.rsi()\n",
        "    \n",
        "    return df_copy.dropna()\n",
        "  \n",
        "\n",
        "  # Importar los datos\n",
        "  #df = yf.download(symbol, interval='1m', start=\"2022-08-27\")\n",
        "  df = yf.download(symbol, interval='5m', start=\"2022-07-10\")\n",
        "  \n",
        "  # Take adjusted close\n",
        "  df = df[[\"Adj Close\"]]\n",
        "\n",
        "  # Rename the column\n",
        "  df.columns = [\"close\"]\n",
        "\n",
        "  dfc = feature_engineering(df)\n",
        "\n",
        "  # Percentage train set\n",
        "  split = int(0.80*len(dfc))\n",
        "\n",
        "  # Train set creation\n",
        "  X_train = dfc[['SMA 15', 'SMA 60', 'MSD 10', 'MSD 30', 'rsi']].iloc[:split]\n",
        "  y_train = dfc[[\"returns\"]].iloc[:split]\n",
        "\n",
        "\n",
        "  # Test set creation\n",
        "  X_test = dfc[['SMA 15', 'SMA 60', 'MSD 10', 'MSD 30', 'rsi']].iloc[split:]\n",
        "  y_test = dfc[[\"returns\"]].iloc[split:]\n",
        "\n",
        "  # Import the class\n",
        "  from sklearn.linear_model import LinearRegression\n",
        "\n",
        "  # Initialize the class\n",
        "  reg = LinearRegression()\n",
        "\n",
        "  # Fit the model\n",
        "  reg.fit(X_train, y_train)\n",
        "\n",
        "  # Create predictions for the whole dataset\n",
        "  X = np.concatenate((X_train, X_test), axis=0)\n",
        "\n",
        "  dfc[\"prediction\"] = reg.predict(X)\n",
        "\n",
        "  # Compute the position\n",
        "  dfc[\"position\"] = np.sign(dfc[\"prediction\"])\n",
        "\n",
        "  # Compute the returns\n",
        "  dfc[\"strategy\"] = dfc[\"returns\"] * dfc[\"position\"].shift(1)\n",
        "\n",
        "\n",
        "  (dfc[\"strategy\"].iloc[split:].cumsum()*100).plot()"
      ]
    },
    {
      "cell_type": "code",
      "execution_count": 43,
      "id": "c6_JMFn4sJ8L",
      "metadata": {
        "colab": {
          "base_uri": "https://localhost:8080/",
          "height": 390
        },
        "id": "c6_JMFn4sJ8L",
        "outputId": "2397d943-539f-473a-8a18-a3832970bb1d"
      },
      "outputs": [
        {
          "name": "stdout",
          "output_type": "stream",
          "text": [
            "[*********************100%***********************]  1 of 1 completed\n"
          ]
        },
        {
          "data": {
            "image/png": "[encoded data removed]",
            "text/plain": [
              "<Figure size 576x396 with 1 Axes>"
            ]
          },
          "metadata": {},
          "output_type": "display_data"
        }
      ],
      "source": [
        "symbols_forex = [\n",
        "    \"AUDCAD=X\",\"AUDCHF=X\",\"AUDJPY=X\",\"AUDNZD=X\",\"AUDUSD=X\",\"CADCHF=X\",\"CADJPY=X\",\n",
        "    \"CHFJPY=X\",\"EURAUD=X\",\"EURCAD=X\",\"EURCHF=X\",\"EURGBP=X\",\"EURJPY=X\",\"EURNZD=X\",\n",
        "    \"EURUSD=X\",\"GBPAUD=X\",\"GBPCAD=X\",\"GBPCHF=X\",\"GBPJPY=X\",\"GBPNZD=X\",\"GBPUSD=X\",\n",
        "    \"NZDCAD=X\",\"NZDCHF=X\",\"NZDJPY=X\",\"NZDUSD=X\",\"USDCAD=X\",\"USDCHF=X\",\"USDJPY=X\",\n",
        "                 ]\n",
        "\n",
        "symbols_forex_winners = [\n",
        "    \"AUDCAD=X\",\"AUDCHF=X\",\"AUDNZD=X\",\"AUDUSD=X\",\"CADCHF=X\",\"CADJPY=X\",\n",
        "    \"GBPCAD=X\",\"GBPCHF=X\",\"GBPJPY=X\",\"GBPUSD=X\",\n",
        "    \"NZDCAD=X\",\"USDCHF=X\"\n",
        "                 ]\n",
        "\n",
        "symbols_indices = [\n",
        "    '^NDX', '^GSPC', '^IBEX', \n",
        "]\n",
        "\n",
        "symbols_commodities = [\n",
        "    'GC=F', 'SI=F', 'CL=F',\n",
        "]\n",
        "\n",
        "symbols_tresuries = ['^TNX',\n",
        "                     #'00774B.TW',\n",
        "                     ]\n",
        "\n",
        "symbols_crypto = [\n",
        "    'BTC-USD','ETH-USD',\n",
        "]\n",
        "\n",
        "listnames = symbols_forex+symbols_indices+symbols_commodities+symbols_crypto+ symbols_tresuries\n",
        "\n",
        "lin_reg_trading('^GSPC')"
      ]
    },
    {
      "cell_type": "code",
      "execution_count": null,
      "id": "QSeK4rtkGNcH",
      "metadata": {
        "id": "QSeK4rtkGNcH"
      },
      "outputs": [],
      "source": []
    },
    {
      "cell_type": "code",
      "execution_count": null,
      "id": "3ebd6466",
      "metadata": {},
      "outputs": [],
      "source": []
    }
  ],
  "metadata": {
    "colab": {
      "collapsed_sections": [],
      "include_colab_link": true,
      "name": "ES - TA Capítulo 08: Regresión Lineal para predecir los precios de las acciones.ipynb",
      "provenance": []
    },
    "kernelspec": {
      "display_name": "Python 3.9.13 64-bit",
      "language": "python",
      "name": "python3"
    },
    "language_info": {
      "codemirror_mode": {
        "name": "ipython",
        "version": 3
      },
      "file_extension": ".py",
      "mimetype": "text/x-python",
      "name": "python",
      "nbconvert_exporter": "python",
      "pygments_lexer": "ipython3",
      "version": "3.9.13"
    },
    "vscode": {
      "interpreter": {
        "hash": "aee8b7b246df8f9039afb4144a1f6fd8d2ca17a180786b69acc140d282b71a49"
      }
    }
  },
  "nbformat": 4,
  "nbformat_minor": 5
}
